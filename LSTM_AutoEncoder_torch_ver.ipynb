{
 "cells": [
  {
   "cell_type": "code",
   "execution_count": 1,
   "id": "b380a010",
   "metadata": {
    "collapsed": true
   },
   "outputs": [
    {
     "name": "stdout",
     "output_type": "stream",
     "text": [
      "Requirement already satisfied: pandas in c:\\users\\vaiv\\documents\\blog\\lstm_autoencoder_torch\\.lstm_ae_torch\\lib\\site-packages (1.5.0)\n",
      "Requirement already satisfied: numpy in c:\\users\\vaiv\\documents\\blog\\lstm_autoencoder_torch\\.lstm_ae_torch\\lib\\site-packages (1.23.4)\n",
      "Requirement already satisfied: matplotlib in c:\\users\\vaiv\\documents\\blog\\lstm_autoencoder_torch\\.lstm_ae_torch\\lib\\site-packages (3.6.1)\n",
      "Requirement already satisfied: easydict in c:\\users\\vaiv\\documents\\blog\\lstm_autoencoder_torch\\.lstm_ae_torch\\lib\\site-packages (1.10)\n",
      "Requirement already satisfied: tqdm in c:\\users\\vaiv\\documents\\blog\\lstm_autoencoder_torch\\.lstm_ae_torch\\lib\\site-packages (4.64.1)\n",
      "Requirement already satisfied: celluloid in c:\\users\\vaiv\\documents\\blog\\lstm_autoencoder_torch\\.lstm_ae_torch\\lib\\site-packages (0.2.0)\n",
      "Requirement already satisfied: torch in c:\\users\\vaiv\\documents\\blog\\lstm_autoencoder_torch\\.lstm_ae_torch\\lib\\site-packages (1.12.1)\n",
      "Requirement already satisfied: ipywidgets in c:\\users\\vaiv\\documents\\blog\\lstm_autoencoder_torch\\.lstm_ae_torch\\lib\\site-packages (8.0.2)\n",
      "Requirement already satisfied: kaggle in c:\\users\\vaiv\\documents\\blog\\lstm_autoencoder_torch\\.lstm_ae_torch\\lib\\site-packages (1.5.12)\n",
      "Requirement already satisfied: python-dateutil>=2.8.1 in c:\\users\\vaiv\\documents\\blog\\lstm_autoencoder_torch\\.lstm_ae_torch\\lib\\site-packages (from pandas) (2.8.2)\n",
      "Requirement already satisfied: pytz>=2020.1 in c:\\users\\vaiv\\documents\\blog\\lstm_autoencoder_torch\\.lstm_ae_torch\\lib\\site-packages (from pandas) (2022.4)\n",
      "Requirement already satisfied: fonttools>=4.22.0 in c:\\users\\vaiv\\documents\\blog\\lstm_autoencoder_torch\\.lstm_ae_torch\\lib\\site-packages (from matplotlib) (4.37.4)\n",
      "Requirement already satisfied: contourpy>=1.0.1 in c:\\users\\vaiv\\documents\\blog\\lstm_autoencoder_torch\\.lstm_ae_torch\\lib\\site-packages (from matplotlib) (1.0.5)\n",
      "Requirement already satisfied: kiwisolver>=1.0.1 in c:\\users\\vaiv\\documents\\blog\\lstm_autoencoder_torch\\.lstm_ae_torch\\lib\\site-packages (from matplotlib) (1.4.4)\n",
      "Requirement already satisfied: pyparsing>=2.2.1 in c:\\users\\vaiv\\documents\\blog\\lstm_autoencoder_torch\\.lstm_ae_torch\\lib\\site-packages (from matplotlib) (3.0.9)\n",
      "Requirement already satisfied: pillow>=6.2.0 in c:\\users\\vaiv\\documents\\blog\\lstm_autoencoder_torch\\.lstm_ae_torch\\lib\\site-packages (from matplotlib) (9.2.0)\n",
      "Requirement already satisfied: cycler>=0.10 in c:\\users\\vaiv\\documents\\blog\\lstm_autoencoder_torch\\.lstm_ae_torch\\lib\\site-packages (from matplotlib) (0.11.0)\n",
      "Requirement already satisfied: packaging>=20.0 in c:\\users\\vaiv\\documents\\blog\\lstm_autoencoder_torch\\.lstm_ae_torch\\lib\\site-packages (from matplotlib) (21.3)\n",
      "Requirement already satisfied: colorama in c:\\users\\vaiv\\documents\\blog\\lstm_autoencoder_torch\\.lstm_ae_torch\\lib\\site-packages (from tqdm) (0.4.5)\n",
      "Requirement already satisfied: typing-extensions in c:\\users\\vaiv\\documents\\blog\\lstm_autoencoder_torch\\.lstm_ae_torch\\lib\\site-packages (from torch) (4.4.0)\n",
      "Requirement already satisfied: widgetsnbextension~=4.0 in c:\\users\\vaiv\\documents\\blog\\lstm_autoencoder_torch\\.lstm_ae_torch\\lib\\site-packages (from ipywidgets) (4.0.3)\n",
      "Requirement already satisfied: jupyterlab-widgets~=3.0 in c:\\users\\vaiv\\documents\\blog\\lstm_autoencoder_torch\\.lstm_ae_torch\\lib\\site-packages (from ipywidgets) (3.0.3)\n",
      "Requirement already satisfied: ipykernel>=4.5.1 in c:\\users\\vaiv\\documents\\blog\\lstm_autoencoder_torch\\.lstm_ae_torch\\lib\\site-packages (from ipywidgets) (6.16.0)\n",
      "Requirement already satisfied: traitlets>=4.3.1 in c:\\users\\vaiv\\documents\\blog\\lstm_autoencoder_torch\\.lstm_ae_torch\\lib\\site-packages (from ipywidgets) (5.4.0)\n",
      "Requirement already satisfied: ipython>=6.1.0 in c:\\users\\vaiv\\documents\\blog\\lstm_autoencoder_torch\\.lstm_ae_torch\\lib\\site-packages (from ipywidgets) (8.5.0)\n",
      "Requirement already satisfied: six>=1.10 in c:\\users\\vaiv\\documents\\blog\\lstm_autoencoder_torch\\.lstm_ae_torch\\lib\\site-packages (from kaggle) (1.16.0)\n",
      "Requirement already satisfied: certifi in c:\\users\\vaiv\\documents\\blog\\lstm_autoencoder_torch\\.lstm_ae_torch\\lib\\site-packages (from kaggle) (2022.9.24)\n",
      "Requirement already satisfied: requests in c:\\users\\vaiv\\documents\\blog\\lstm_autoencoder_torch\\.lstm_ae_torch\\lib\\site-packages (from kaggle) (2.28.1)\n",
      "Requirement already satisfied: python-slugify in c:\\users\\vaiv\\documents\\blog\\lstm_autoencoder_torch\\.lstm_ae_torch\\lib\\site-packages (from kaggle) (6.1.2)\n",
      "Requirement already satisfied: urllib3 in c:\\users\\vaiv\\documents\\blog\\lstm_autoencoder_torch\\.lstm_ae_torch\\lib\\site-packages (from kaggle) (1.26.12)\n",
      "Requirement already satisfied: nest-asyncio in c:\\users\\vaiv\\documents\\blog\\lstm_autoencoder_torch\\.lstm_ae_torch\\lib\\site-packages (from ipykernel>=4.5.1->ipywidgets) (1.5.6)\n",
      "Requirement already satisfied: matplotlib-inline>=0.1 in c:\\users\\vaiv\\documents\\blog\\lstm_autoencoder_torch\\.lstm_ae_torch\\lib\\site-packages (from ipykernel>=4.5.1->ipywidgets) (0.1.6)\n",
      "Requirement already satisfied: tornado>=6.1 in c:\\users\\vaiv\\documents\\blog\\lstm_autoencoder_torch\\.lstm_ae_torch\\lib\\site-packages (from ipykernel>=4.5.1->ipywidgets) (6.2)\n",
      "Requirement already satisfied: pyzmq>=17 in c:\\users\\vaiv\\documents\\blog\\lstm_autoencoder_torch\\.lstm_ae_torch\\lib\\site-packages (from ipykernel>=4.5.1->ipywidgets) (24.0.1)\n",
      "Requirement already satisfied: debugpy>=1.0 in c:\\users\\vaiv\\documents\\blog\\lstm_autoencoder_torch\\.lstm_ae_torch\\lib\\site-packages (from ipykernel>=4.5.1->ipywidgets) (1.6.3)\n",
      "Requirement already satisfied: jupyter-client>=6.1.12 in c:\\users\\vaiv\\documents\\blog\\lstm_autoencoder_torch\\.lstm_ae_torch\\lib\\site-packages (from ipykernel>=4.5.1->ipywidgets) (7.4.2)\n",
      "Requirement already satisfied: psutil in c:\\users\\vaiv\\documents\\blog\\lstm_autoencoder_torch\\.lstm_ae_torch\\lib\\site-packages (from ipykernel>=4.5.1->ipywidgets) (5.9.2)\n",
      "Requirement already satisfied: pickleshare in c:\\users\\vaiv\\documents\\blog\\lstm_autoencoder_torch\\.lstm_ae_torch\\lib\\site-packages (from ipython>=6.1.0->ipywidgets) (0.7.5)\n",
      "Requirement already satisfied: decorator in c:\\users\\vaiv\\documents\\blog\\lstm_autoencoder_torch\\.lstm_ae_torch\\lib\\site-packages (from ipython>=6.1.0->ipywidgets) (5.1.1)\n",
      "Requirement already satisfied: backcall in c:\\users\\vaiv\\documents\\blog\\lstm_autoencoder_torch\\.lstm_ae_torch\\lib\\site-packages (from ipython>=6.1.0->ipywidgets) (0.2.0)\n",
      "Requirement already satisfied: stack-data in c:\\users\\vaiv\\documents\\blog\\lstm_autoencoder_torch\\.lstm_ae_torch\\lib\\site-packages (from ipython>=6.1.0->ipywidgets) (0.5.1)\n",
      "Requirement already satisfied: pygments>=2.4.0 in c:\\users\\vaiv\\documents\\blog\\lstm_autoencoder_torch\\.lstm_ae_torch\\lib\\site-packages (from ipython>=6.1.0->ipywidgets) (2.13.0)\n",
      "Requirement already satisfied: jedi>=0.16 in c:\\users\\vaiv\\documents\\blog\\lstm_autoencoder_torch\\.lstm_ae_torch\\lib\\site-packages (from ipython>=6.1.0->ipywidgets) (0.18.1)\n",
      "Requirement already satisfied: prompt-toolkit<3.1.0,>3.0.1 in c:\\users\\vaiv\\documents\\blog\\lstm_autoencoder_torch\\.lstm_ae_torch\\lib\\site-packages (from ipython>=6.1.0->ipywidgets) (3.0.31)\n",
      "Requirement already satisfied: text-unidecode>=1.3 in c:\\users\\vaiv\\documents\\blog\\lstm_autoencoder_torch\\.lstm_ae_torch\\lib\\site-packages (from python-slugify->kaggle) (1.3)\n",
      "Requirement already satisfied: idna<4,>=2.5 in c:\\users\\vaiv\\documents\\blog\\lstm_autoencoder_torch\\.lstm_ae_torch\\lib\\site-packages (from requests->kaggle) (3.4)\n",
      "Requirement already satisfied: charset-normalizer<3,>=2 in c:\\users\\vaiv\\documents\\blog\\lstm_autoencoder_torch\\.lstm_ae_torch\\lib\\site-packages (from requests->kaggle) (2.1.1)\n",
      "Requirement already satisfied: parso<0.9.0,>=0.8.0 in c:\\users\\vaiv\\documents\\blog\\lstm_autoencoder_torch\\.lstm_ae_torch\\lib\\site-packages (from jedi>=0.16->ipython>=6.1.0->ipywidgets) (0.8.3)\n",
      "Requirement already satisfied: jupyter-core>=4.9.2 in c:\\users\\vaiv\\documents\\blog\\lstm_autoencoder_torch\\.lstm_ae_torch\\lib\\site-packages (from jupyter-client>=6.1.12->ipykernel>=4.5.1->ipywidgets) (4.11.1)\n",
      "Requirement already satisfied: entrypoints in c:\\users\\vaiv\\documents\\blog\\lstm_autoencoder_torch\\.lstm_ae_torch\\lib\\site-packages (from jupyter-client>=6.1.12->ipykernel>=4.5.1->ipywidgets) (0.4)\n",
      "Requirement already satisfied: wcwidth in c:\\users\\vaiv\\documents\\blog\\lstm_autoencoder_torch\\.lstm_ae_torch\\lib\\site-packages (from prompt-toolkit<3.1.0,>3.0.1->ipython>=6.1.0->ipywidgets) (0.2.5)\n",
      "Requirement already satisfied: executing in c:\\users\\vaiv\\documents\\blog\\lstm_autoencoder_torch\\.lstm_ae_torch\\lib\\site-packages (from stack-data->ipython>=6.1.0->ipywidgets) (1.1.1)\n",
      "Requirement already satisfied: pure-eval in c:\\users\\vaiv\\documents\\blog\\lstm_autoencoder_torch\\.lstm_ae_torch\\lib\\site-packages (from stack-data->ipython>=6.1.0->ipywidgets) (0.2.2)\n",
      "Requirement already satisfied: asttokens in c:\\users\\vaiv\\documents\\blog\\lstm_autoencoder_torch\\.lstm_ae_torch\\lib\\site-packages (from stack-data->ipython>=6.1.0->ipywidgets) (2.0.8)\n",
      "Requirement already satisfied: pywin32>=1.0 in c:\\users\\vaiv\\documents\\blog\\lstm_autoencoder_torch\\.lstm_ae_torch\\lib\\site-packages (from jupyter-core>=4.9.2->jupyter-client>=6.1.12->ipykernel>=4.5.1->ipywidgets) (304)\n"
     ]
    }
   ],
   "source": [
    "## Install Dependencies\n",
    "!pip install pandas numpy matplotlib easydict tqdm celluloid torch ipywidgets kaggle"
   ]
  },
  {
   "cell_type": "code",
   "execution_count": null,
   "id": "6c6c11c6",
   "metadata": {},
   "outputs": [],
   "source": [
    "!kaggle datasets download -d nphantawee/pump-sensor-data"
   ]
  },
  {
   "cell_type": "code",
   "execution_count": 5,
   "id": "e1129d72",
   "metadata": {},
   "outputs": [],
   "source": [
    "## Import Dependencies\n",
    "import os\n",
    "import pandas as pd\n",
    "import numpy as np\n",
    "import matplotlib.pyplot as plt\n",
    "import easydict\n",
    "import pickle\n",
    "from typing import List\n",
    "from tqdm.notebook import trange, tqdm\n",
    "from celluloid import Camera\n",
    "\n",
    "import torch\n",
    "from torch import nn\n",
    "import torch.nn.functional as F\n",
    "from torch.utils.data import DataLoader, Dataset"
   ]
  },
  {
   "cell_type": "markdown",
   "id": "f58e93ee",
   "metadata": {},
   "source": [
    "## Exploratory Data Analysis"
   ]
  },
  {
   "cell_type": "code",
   "execution_count": 6,
   "id": "3ef8c146",
   "metadata": {},
   "outputs": [
    {
     "data": {
      "text/html": [
       "<div>\n",
       "<style scoped>\n",
       "    .dataframe tbody tr th:only-of-type {\n",
       "        vertical-align: middle;\n",
       "    }\n",
       "\n",
       "    .dataframe tbody tr th {\n",
       "        vertical-align: top;\n",
       "    }\n",
       "\n",
       "    .dataframe thead th {\n",
       "        text-align: right;\n",
       "    }\n",
       "</style>\n",
       "<table border=\"1\" class=\"dataframe\">\n",
       "  <thead>\n",
       "    <tr style=\"text-align: right;\">\n",
       "      <th></th>\n",
       "      <th>timestamp</th>\n",
       "      <th>sensor_00</th>\n",
       "      <th>sensor_01</th>\n",
       "      <th>sensor_02</th>\n",
       "      <th>sensor_03</th>\n",
       "      <th>sensor_04</th>\n",
       "      <th>sensor_05</th>\n",
       "      <th>sensor_06</th>\n",
       "      <th>sensor_07</th>\n",
       "      <th>sensor_08</th>\n",
       "      <th>...</th>\n",
       "      <th>sensor_43</th>\n",
       "      <th>sensor_44</th>\n",
       "      <th>sensor_45</th>\n",
       "      <th>sensor_46</th>\n",
       "      <th>sensor_47</th>\n",
       "      <th>sensor_48</th>\n",
       "      <th>sensor_49</th>\n",
       "      <th>sensor_50</th>\n",
       "      <th>sensor_51</th>\n",
       "      <th>machine_status</th>\n",
       "    </tr>\n",
       "  </thead>\n",
       "  <tbody>\n",
       "    <tr>\n",
       "      <th>0</th>\n",
       "      <td>2018-04-01 00:00:00</td>\n",
       "      <td>2.465394</td>\n",
       "      <td>47.09201</td>\n",
       "      <td>53.2118</td>\n",
       "      <td>46.310760</td>\n",
       "      <td>634.3750</td>\n",
       "      <td>76.45975</td>\n",
       "      <td>13.41146</td>\n",
       "      <td>16.13136</td>\n",
       "      <td>15.56713</td>\n",
       "      <td>...</td>\n",
       "      <td>41.92708</td>\n",
       "      <td>39.641200</td>\n",
       "      <td>65.68287</td>\n",
       "      <td>50.92593</td>\n",
       "      <td>38.194440</td>\n",
       "      <td>157.9861</td>\n",
       "      <td>67.70834</td>\n",
       "      <td>243.0556</td>\n",
       "      <td>201.3889</td>\n",
       "      <td>NORMAL</td>\n",
       "    </tr>\n",
       "    <tr>\n",
       "      <th>1</th>\n",
       "      <td>2018-04-01 00:01:00</td>\n",
       "      <td>2.465394</td>\n",
       "      <td>47.09201</td>\n",
       "      <td>53.2118</td>\n",
       "      <td>46.310760</td>\n",
       "      <td>634.3750</td>\n",
       "      <td>76.45975</td>\n",
       "      <td>13.41146</td>\n",
       "      <td>16.13136</td>\n",
       "      <td>15.56713</td>\n",
       "      <td>...</td>\n",
       "      <td>41.92708</td>\n",
       "      <td>39.641200</td>\n",
       "      <td>65.68287</td>\n",
       "      <td>50.92593</td>\n",
       "      <td>38.194440</td>\n",
       "      <td>157.9861</td>\n",
       "      <td>67.70834</td>\n",
       "      <td>243.0556</td>\n",
       "      <td>201.3889</td>\n",
       "      <td>NORMAL</td>\n",
       "    </tr>\n",
       "    <tr>\n",
       "      <th>2</th>\n",
       "      <td>2018-04-01 00:02:00</td>\n",
       "      <td>2.444734</td>\n",
       "      <td>47.35243</td>\n",
       "      <td>53.2118</td>\n",
       "      <td>46.397570</td>\n",
       "      <td>638.8889</td>\n",
       "      <td>73.54598</td>\n",
       "      <td>13.32465</td>\n",
       "      <td>16.03733</td>\n",
       "      <td>15.61777</td>\n",
       "      <td>...</td>\n",
       "      <td>41.66666</td>\n",
       "      <td>39.351852</td>\n",
       "      <td>65.39352</td>\n",
       "      <td>51.21528</td>\n",
       "      <td>38.194443</td>\n",
       "      <td>155.9606</td>\n",
       "      <td>67.12963</td>\n",
       "      <td>241.3194</td>\n",
       "      <td>203.7037</td>\n",
       "      <td>NORMAL</td>\n",
       "    </tr>\n",
       "    <tr>\n",
       "      <th>3</th>\n",
       "      <td>2018-04-01 00:03:00</td>\n",
       "      <td>2.460474</td>\n",
       "      <td>47.09201</td>\n",
       "      <td>53.1684</td>\n",
       "      <td>46.397568</td>\n",
       "      <td>628.1250</td>\n",
       "      <td>76.98898</td>\n",
       "      <td>13.31742</td>\n",
       "      <td>16.24711</td>\n",
       "      <td>15.69734</td>\n",
       "      <td>...</td>\n",
       "      <td>40.88541</td>\n",
       "      <td>39.062500</td>\n",
       "      <td>64.81481</td>\n",
       "      <td>51.21528</td>\n",
       "      <td>38.194440</td>\n",
       "      <td>155.9606</td>\n",
       "      <td>66.84028</td>\n",
       "      <td>240.4514</td>\n",
       "      <td>203.1250</td>\n",
       "      <td>NORMAL</td>\n",
       "    </tr>\n",
       "    <tr>\n",
       "      <th>4</th>\n",
       "      <td>2018-04-01 00:04:00</td>\n",
       "      <td>2.445718</td>\n",
       "      <td>47.13541</td>\n",
       "      <td>53.2118</td>\n",
       "      <td>46.397568</td>\n",
       "      <td>636.4583</td>\n",
       "      <td>76.58897</td>\n",
       "      <td>13.35359</td>\n",
       "      <td>16.21094</td>\n",
       "      <td>15.69734</td>\n",
       "      <td>...</td>\n",
       "      <td>41.40625</td>\n",
       "      <td>38.773150</td>\n",
       "      <td>65.10416</td>\n",
       "      <td>51.79398</td>\n",
       "      <td>38.773150</td>\n",
       "      <td>158.2755</td>\n",
       "      <td>66.55093</td>\n",
       "      <td>242.1875</td>\n",
       "      <td>201.3889</td>\n",
       "      <td>NORMAL</td>\n",
       "    </tr>\n",
       "  </tbody>\n",
       "</table>\n",
       "<p>5 rows × 54 columns</p>\n",
       "</div>"
      ],
      "text/plain": [
       "             timestamp  sensor_00  sensor_01  sensor_02  sensor_03  sensor_04  \\\n",
       "0  2018-04-01 00:00:00   2.465394   47.09201    53.2118  46.310760   634.3750   \n",
       "1  2018-04-01 00:01:00   2.465394   47.09201    53.2118  46.310760   634.3750   \n",
       "2  2018-04-01 00:02:00   2.444734   47.35243    53.2118  46.397570   638.8889   \n",
       "3  2018-04-01 00:03:00   2.460474   47.09201    53.1684  46.397568   628.1250   \n",
       "4  2018-04-01 00:04:00   2.445718   47.13541    53.2118  46.397568   636.4583   \n",
       "\n",
       "   sensor_05  sensor_06  sensor_07  sensor_08  ...  sensor_43  sensor_44  \\\n",
       "0   76.45975   13.41146   16.13136   15.56713  ...   41.92708  39.641200   \n",
       "1   76.45975   13.41146   16.13136   15.56713  ...   41.92708  39.641200   \n",
       "2   73.54598   13.32465   16.03733   15.61777  ...   41.66666  39.351852   \n",
       "3   76.98898   13.31742   16.24711   15.69734  ...   40.88541  39.062500   \n",
       "4   76.58897   13.35359   16.21094   15.69734  ...   41.40625  38.773150   \n",
       "\n",
       "   sensor_45  sensor_46  sensor_47  sensor_48  sensor_49  sensor_50  \\\n",
       "0   65.68287   50.92593  38.194440   157.9861   67.70834   243.0556   \n",
       "1   65.68287   50.92593  38.194440   157.9861   67.70834   243.0556   \n",
       "2   65.39352   51.21528  38.194443   155.9606   67.12963   241.3194   \n",
       "3   64.81481   51.21528  38.194440   155.9606   66.84028   240.4514   \n",
       "4   65.10416   51.79398  38.773150   158.2755   66.55093   242.1875   \n",
       "\n",
       "   sensor_51  machine_status  \n",
       "0   201.3889          NORMAL  \n",
       "1   201.3889          NORMAL  \n",
       "2   203.7037          NORMAL  \n",
       "3   203.1250          NORMAL  \n",
       "4   201.3889          NORMAL  \n",
       "\n",
       "[5 rows x 54 columns]"
      ]
     },
     "execution_count": 6,
     "metadata": {},
     "output_type": "execute_result"
    }
   ],
   "source": [
    "## 데이터 불러오기\n",
    "df = pd.read_csv('./dataset/sensor.csv', index_col=0)\n",
    "## 데이터 확인\n",
    "df.head()"
   ]
  },
  {
   "cell_type": "code",
   "execution_count": 7,
   "id": "5492b355",
   "metadata": {},
   "outputs": [],
   "source": [
    "def plot_sensor(temp_df, save_path='sample.gif'):\n",
    "    fig = plt.figure(figsize=(16, 6))\n",
    "    ## 에니메이션 만들기\n",
    "    camera = Camera(fig)\n",
    "    ax=fig.add_subplot(111)\n",
    "    \n",
    "    ## 불량 구간 탐색 데이터\n",
    "    labels = temp_df['machine_status'].values.tolist()\n",
    "    dates = temp_df.index\n",
    "    \n",
    "    for var_name in tqdm([item for item in temp_df.columns if 'sensor_' in item]):\n",
    "        ## 센서별로 사진 찍기\n",
    "        temp_df[var_name].plot(ax=ax)\n",
    "        ax.legend([var_name], loc='upper right')\n",
    "        \n",
    "        ## 고장구간 표시\n",
    "        temp_start = dates[0]\n",
    "        temp_date = dates[0]\n",
    "        temp_label = labels[0]\n",
    "        \n",
    "        for xc, value in zip(dates, labels):\n",
    "            if temp_label != value:\n",
    "                if temp_label == \"BROKEN\":\n",
    "                    ax.axvspan(temp_start, temp_date, alpha=0.2, color='blue')\n",
    "                if temp_label == \"RECOVERING\":\n",
    "                    ax.axvspan(temp_start, temp_date, alpha=0.2, color='orange')\n",
    "                temp_start=xc\n",
    "                temp_label=value\n",
    "            temp_date = xc\n",
    "        if temp_label == \"BROKEN\":\n",
    "            ax.axvspan(temp_start, xc, alpha=0.2, color='blue')\n",
    "        if temp_label == \"RECOVERING\":\n",
    "            ax.axvspan(temp_start, xc, alpha=0.2, color='orange')\n",
    "        ## 카메라 찍기\n",
    "        camera.snap()\n",
    "        \n",
    "    animation = camera.animate(500, blit=True)\n",
    "    # .gif 파일로 저장하면 끝!\n",
    "    animation.save(\n",
    "        save_path\n",
    "    )"
   ]
  },
  {
   "cell_type": "code",
   "execution_count": 8,
   "id": "40af2a9b",
   "metadata": {},
   "outputs": [
    {
     "data": {
      "application/vnd.jupyter.widget-view+json": {
       "model_id": "238dcab9ef9b405abafeabb57ffacf5f",
       "version_major": 2,
       "version_minor": 0
      },
      "text/plain": [
       "  0%|          | 0/52 [00:00<?, ?it/s]"
      ]
     },
     "metadata": {},
     "output_type": "display_data"
    },
    {
     "data": {
      "image/png": "[encoded data removed]",
      "text/plain": [
       "<Figure size 1600x600 with 1 Axes>"
      ]
     },
     "metadata": {},
     "output_type": "display_data"
    }
   ],
   "source": [
    "plot_sensor(df)"
   ]
  },
  {
   "cell_type": "markdown",
   "id": "7e2e99dc",
   "metadata": {},
   "source": [
    "## Data Preprocessing"
   ]
  },
  {
   "cell_type": "code",
   "execution_count": 9,
   "id": "2c47cc51",
   "metadata": {},
   "outputs": [],
   "source": [
    "## change data type\n",
    "df['date'] = pd.to_datetime(df['timestamp'])\n",
    "for var_index in [item for item in df.columns if 'sensor_' in item]:\n",
    "    df[var_index] = pd.to_numeric(df[var_index], errors='coerce')\n",
    "del df['timestamp']\n",
    "\n",
    "## change date column to index of dataframe\n",
    "df = df.set_index('date')"
   ]
  },
  {
   "cell_type": "code",
   "execution_count": 10,
   "id": "5391281e",
   "metadata": {},
   "outputs": [
    {
     "data": {
      "text/plain": [
       "<AxesSubplot: >"
      ]
     },
     "execution_count": 10,
     "metadata": {},
     "output_type": "execute_result"
    },
    {
     "data": {
      "image/png": "[encoded data removed]",
      "text/plain": [
       "<Figure size 1800x800 with 1 Axes>"
      ]
     },
     "metadata": {},
     "output_type": "display_data"
    }
   ],
   "source": [
    "##  check out missing value\n",
    "(df.isnull().sum()/len(df)).plot.bar(figsize=(18, 8), colormap='Paired')"
   ]
  },
  {
   "cell_type": "markdown",
   "id": "eb29d59b",
   "metadata": {},
   "source": [
    "#### 'sensor_15'column has a lot of missing values...\n",
    "#### Missing values can make a big effect to performance of the model, even if there have been made tons of effort.\n",
    "### So, we decide to erase 'sensor_15' and 'sensor_50'"
   ]
  },
  {
   "cell_type": "code",
   "execution_count": 11,
   "id": "4783ea10",
   "metadata": {
    "scrolled": true
   },
   "outputs": [],
   "source": [
    "## Erase duplicated data\n",
    "df = df.drop_duplicates()\n",
    "\n",
    "## delete sensor_15 and sensor_50\n",
    "del df['sensor_15']\n",
    "del df['sensor_50']\n",
    "\n",
    "## interpolate data with data on the right before the point.\n",
    "df= df.fillna(method='ffill')"
   ]
  },
  {
   "cell_type": "markdown",
   "id": "a9a7e4a1",
   "metadata": {},
   "source": [
    "## data split and normalize"
   ]
  },
  {
   "cell_type": "code",
   "execution_count": 12,
   "id": "8f781ee2",
   "metadata": {},
   "outputs": [],
   "source": [
    "normal_df = df[df['machine_status']=='NORMAL']\n",
    "abnormal_df = df[df['machine_status']!='NORMAL']"
   ]
  },
  {
   "cell_type": "code",
   "execution_count": 13,
   "id": "0d3feaa3",
   "metadata": {},
   "outputs": [],
   "source": [
    "## Data is time-series data, which is sequences of a specific window size.\n",
    "## So we don't use shuffle to shuffle the data.\n",
    "## We're gonna split 'Normal' data into 70% for training, 10% for setting parameter, 10% for validation, and the other for testing.\n",
    "\n",
    "interval_n = int(len(normal_df)/10)\n",
    "normal_df1 = df.iloc[0:interval_n*7]\n",
    "normal_df2 = df.iloc[interval_n*7:interval_n*8]\n",
    "normal_df3 = df.iloc[interval_n*8:interval_n*9]\n",
    "normal_df4 = df.iloc[interval_n*9:]\n",
    "\n",
    "## Using a half of 'Abnormal'data as validation, and the other for testing.\n",
    "interval_ab = int(len(abnormal_df)/2)\n",
    "abnormal_df1 = df.iloc[0:interval_ab]\n",
    "abnormal_df2 = df.iloc[interval_ab:]"
   ]
  },
  {
   "cell_type": "code",
   "execution_count": 14,
   "id": "017911a0",
   "metadata": {},
   "outputs": [],
   "source": [
    "## for data normalization(standardization)\n",
    "mean_df = normal_df1.iloc[:, :50].mean()\n",
    "std_df = normal_df1.iloc[:, :50].std()"
   ]
  },
  {
   "cell_type": "markdown",
   "id": "5e85aecf",
   "metadata": {},
   "source": [
    "## Why? we're doing normalizing data?\n",
    "## If each sensor data(feature) has the very different range of degrees, it is possible for the model to be dependent to some features which have the biggest degrees.\n",
    "## To avoid the dependence problem, we use data normalization."
   ]
  },
  {
   "cell_type": "markdown",
   "id": "d610b281",
   "metadata": {},
   "source": [
    "## Setting Data Structure for training"
   ]
  },
  {
   "cell_type": "code",
   "execution_count": 15,
   "id": "f457f7be",
   "metadata": {},
   "outputs": [],
   "source": [
    "def make_data_idx(dates, window_size=1):\n",
    "    input_idx = []\n",
    "    for idx in range(window_size-1, len(dates)):\n",
    "        cur_date = dates[idx].to_pydatetime()\n",
    "        in_date = dates[idx - (window_size-1)].to_pydatetime()\n",
    "        \n",
    "        _in_period = (cur_date - in_date).days * 24 * 60 + (cur_date - in_date).seconds / 60\n",
    "        \n",
    "        ## check indexes hava a minute gap each other.\n",
    "        if _in_period == (window_size-1):\n",
    "            input_idx.append(list(range(idx - window_size+1, idx+1)))\n",
    "    return input_idx"
   ]
  },
  {
   "cell_type": "code",
   "execution_count": 16,
   "id": "26f200e1",
   "metadata": {},
   "outputs": [],
   "source": [
    "## inherit Dataset of PyTorch and setting dataset\n",
    "class TagDataset(Dataset):\n",
    "    def __init__(self, input_size, df, mean_df=None, std_df = None, window_size=1):\n",
    "        \n",
    "        ## the number of feature\n",
    "        self.input_size = input_size\n",
    "        \n",
    "        ## length of sequence to restore\n",
    "        self.window_size = window_size\n",
    "        \n",
    "        ## Deep copy Summary data\n",
    "        original_df = df.copy()\n",
    "        \n",
    "        ## normalization\n",
    "        if mean_df is not None and std_df is not None:\n",
    "            sensor_columns = [item for item in df.columns if 'sensor_' in item]\n",
    "            df[sensor_columns] = (df[sensor_columns]-mean_df)/std_df\n",
    "        \n",
    "        dates = list(df.index)\n",
    "        self.input_ids = make_data_idx(dates, window_size=window_size)\n",
    "        \n",
    "        ## use sensor data for reconstruct\n",
    "        self.selected_column = [item for item in df.columns if 'sensor_' in item][:input_size]\n",
    "        self.var_data = torch.tensor(df[self.selected_column].values, dtype=torch.float)\n",
    "        \n",
    "        ## Summary\n",
    "        self.df = original_df.iloc[np.array(self.input_ids)[:, -1]]\n",
    "        \n",
    "    ## Dataset of PyTorch should have __len__ function(length of dataset)\n",
    "    def __len__(self):\n",
    "        return len(self.input_ids)\n",
    "    \n",
    "    ## Dataset of PyTorch should have __getitem__\n",
    "    ## torch module calls __getitem__ to load training data\n",
    "    def __getitem__(self, item):\n",
    "        temp_input_ids = self.input_ids[item]\n",
    "        input_values = self.var_data[temp_input_ids]\n",
    "        return input_values"
   ]
  },
  {
   "cell_type": "markdown",
   "id": "fc9b31c4",
   "metadata": {},
   "source": [
    "## Setting model"
   ]
  },
  {
   "cell_type": "code",
   "execution_count": 17,
   "id": "65a3dbd0",
   "metadata": {},
   "outputs": [],
   "source": [
    "## Encopder\n",
    "class Encoder(nn.Module):\n",
    "\n",
    "    def __init__(self, input_size=4096, hidden_size=1024, num_layers=2):\n",
    "        super(Encoder, self).__init__()\n",
    "        self.hidden_size = hidden_size\n",
    "        self.num_layers = num_layers\n",
    "        self.lstm = nn.LSTM(input_size, hidden_size, num_layers, batch_first=True,\n",
    "                            dropout=0.1, bidirectional=False)\n",
    "\n",
    "    def forward(self, x):\n",
    "        outputs, (hidden, cell) = self.lstm(x)  # out: tensor of shape (batch_size, seq_length, hidden_size)\n",
    "        return (hidden, cell)  "
   ]
  },
  {
   "cell_type": "code",
   "execution_count": 18,
   "id": "948999bb",
   "metadata": {},
   "outputs": [],
   "source": [
    "## Decoder\n",
    "class Decoder(nn.Module):\n",
    "\n",
    "    def __init__(self, input_size=4096, hidden_size=1024, output_size=4096, num_layers=2):\n",
    "        super(Decoder, self).__init__()\n",
    "        self.hidden_size = hidden_size\n",
    "        self.output_size = output_size\n",
    "        self.num_layers = num_layers\n",
    "\n",
    "        self.lstm = nn.LSTM(input_size, hidden_size, num_layers, batch_first=True,\n",
    "                            dropout=0.1, bidirectional=False)\n",
    "\n",
    "        self.relu = nn.ReLU()\n",
    "        self.fc = nn.Linear(hidden_size, output_size)  ## Final layer: fully connected layer\n",
    "        \n",
    "    def forward(self, x, hidden):\n",
    "        output, (hidden, cell) = self.lstm(x, hidden)  # out: tensor of shape (batch_size, seq_length, hidden_size)\n",
    "        prediction = self.fc(output)\n",
    "        return prediction, (hidden, cell)"
   ]
  },
  {
   "cell_type": "code",
   "execution_count": 19,
   "id": "88f9cc58",
   "metadata": {},
   "outputs": [],
   "source": [
    "## LSTM Auto Encoder\n",
    "class LSTMAutoEncoder(nn.Module):\n",
    "\n",
    "    def __init__(self,\n",
    "                 input_dim: int,\n",
    "                 latent_dim: int,\n",
    "                 window_size: int=1,\n",
    "                 **kwargs) -> None:\n",
    "        \"\"\"\n",
    "        :param input_dim: 변수 Tag 갯수\n",
    "        :param latent_dim: 최종 압축할 차원 크기\n",
    "        :param window_size: 길이\n",
    "        :param kwargs:\n",
    "        \"\"\"\n",
    "\n",
    "        super(LSTMAutoEncoder, self).__init__()\n",
    "\n",
    "        self.latent_dim = latent_dim\n",
    "        self.input_dim = input_dim\n",
    "        self.window_size = window_size\n",
    "\n",
    "        if \"num_layers\" in kwargs:\n",
    "            num_layers = kwargs.pop(\"num_layers\")\n",
    "        else:\n",
    "            num_layers = 1\n",
    "\n",
    "        self.encoder = Encoder(\n",
    "            input_size=input_dim,\n",
    "            hidden_size=latent_dim,\n",
    "            num_layers=num_layers,\n",
    "        )\n",
    "        self.reconstruct_decoder = Decoder(\n",
    "            input_size=input_dim,\n",
    "            output_size=input_dim,\n",
    "            hidden_size=latent_dim,\n",
    "            num_layers=num_layers,\n",
    "        )\n",
    "\n",
    "    def forward(self, src:torch.Tensor, **kwargs):\n",
    "        batch_size, sequence_length, var_length = src.size()\n",
    "\n",
    "        ## Encoder 넣기\n",
    "        encoder_hidden = self.encoder(src)\n",
    "        \n",
    "        inv_idx = torch.arange(sequence_length - 1, -1, -1).long()\n",
    "        reconstruct_output = []\n",
    "        temp_input = torch.zeros((batch_size, 1, var_length), dtype=torch.float).to(src.device)\n",
    "        hidden = encoder_hidden\n",
    "        for t in range(sequence_length):\n",
    "            temp_input, hidden = self.reconstruct_decoder(temp_input, hidden)\n",
    "            reconstruct_output.append(temp_input)\n",
    "        reconstruct_output = torch.cat(reconstruct_output, dim=1)[:, inv_idx, :]\n",
    "        \n",
    "        return [reconstruct_output, src]\n",
    "\n",
    "    def loss_function(self,\n",
    "                      *args,\n",
    "                      **kwargs) -> dict:\n",
    "        recons = args[0]\n",
    "        input = args[1]\n",
    "        \n",
    "        ## MSE loss(Mean squared Error)\n",
    "        loss =F.mse_loss(recons, input)\n",
    "        return loss"
   ]
  },
  {
   "cell_type": "markdown",
   "id": "ed2eaae1",
   "metadata": {},
   "source": [
    "## Training"
   ]
  },
  {
   "cell_type": "code",
   "execution_count": 20,
   "id": "c7518a00",
   "metadata": {},
   "outputs": [],
   "source": [
    "def run(args, model, train_loader, test_loader):\n",
    "    # optimizer\n",
    "    optimizer = torch.optim.Adam(model.parameters(), lr=args.learning_rate)\n",
    "\n",
    "    ## iteration\n",
    "    epochs = tqdm(range(args.max_iter//len(train_loader)+1))\n",
    "    \n",
    "    ## training\n",
    "    count = 0\n",
    "    best_loss = 100000000\n",
    "    for epoch in epochs:\n",
    "        model.train()\n",
    "        optimizer.zero_grad()\n",
    "        train_iterator = tqdm(enumerate(train_loader), total=len(train_loader), desc=\"training\")\n",
    "\n",
    "        for i, batch_data in train_iterator:\n",
    "            \n",
    "            if count > args.max_iter:\n",
    "                return model\n",
    "            count += 1\n",
    "            \n",
    "            batch_data = batch_data.to(args.device)\n",
    "            predict_values = model(batch_data)\n",
    "            loss = model.loss_function(*predict_values)\n",
    "\n",
    "            # Backward and optimize\n",
    "            loss.backward()\n",
    "            optimizer.step()\n",
    "            optimizer.zero_grad()\n",
    "            \n",
    "            train_iterator.set_postfix({\n",
    "                \"train_loss\": float(loss),\n",
    "            })\n",
    "\n",
    "        model.eval()\n",
    "        eval_loss = 0\n",
    "        test_iterator = tqdm(enumerate(test_loader), total=len(test_loader), desc=\"testing\")\n",
    "        with torch.no_grad():\n",
    "            for i, batch_data in test_iterator:\n",
    "                \n",
    "                batch_data = batch_data.to(args.device)\n",
    "                predict_values = model(batch_data)\n",
    "                loss = model.loss_function(*predict_values)\n",
    "\n",
    "                eval_loss += loss.mean().item()\n",
    "\n",
    "                test_iterator.set_postfix({\n",
    "                    \"eval_loss\": float(loss),\n",
    "                })\n",
    "        eval_loss = eval_loss / len(test_loader)\n",
    "        epochs.set_postfix({\n",
    "             \"Evaluation Score\": float(eval_loss),\n",
    "        })\n",
    "        if eval_loss < best_loss:\n",
    "            best_loss = eval_loss\n",
    "        else:\n",
    "            if args.early_stop:\n",
    "                print('early stop condition   best_loss[{}]  eval_loss[{}]'.format(best_loss, eval_loss))\n",
    "                return model\n",
    "        \n",
    "    return model"
   ]
  },
  {
   "cell_type": "code",
   "execution_count": 21,
   "id": "538e17d6",
   "metadata": {},
   "outputs": [],
   "source": [
    "def get_loss_list(args, model, test_loader):\n",
    "    test_iterator = tqdm(enumerate(test_loader), total=len(test_loader), desc=\"testing\")\n",
    "    loss_list = []\n",
    "    \n",
    "    with torch.no_grad():\n",
    "        for i, batch_data in test_iterator:\n",
    "                \n",
    "            batch_data = batch_data.to(args.device)\n",
    "            predict_values = model(batch_data)\n",
    "        \n",
    "            ## Calculate MAE(Mean Absolute Error)\n",
    "            loss = F.l1_loss(predict_values[0], predict_values[1], reduce=False)\n",
    "            #loss = loss.sum(dim=2).sum(dim=1).cpu().numpy()\n",
    "            loss = loss.mean(dim=1).cpu().numpy()\n",
    "            loss_list.append(loss)\n",
    "    loss_list = np.concatenate(loss_list, axis=0)\n",
    "    return loss_list"
   ]
  },
  {
   "cell_type": "markdown",
   "id": "e6113675",
   "metadata": {},
   "source": [
    "## Setting model and hyperparameter for training"
   ]
  },
  {
   "cell_type": "code",
   "execution_count": 22,
   "id": "059b6fa2",
   "metadata": {},
   "outputs": [],
   "source": [
    "args = easydict.EasyDict({\n",
    "    \"batch_size\": 64, ## batch_size\n",
    "    \"device\": torch.device('cuda') if torch.cuda.is_available() else torch.device('cpu'), ## GPU utility\n",
    "    \"input_size\": 40, ## input dimension\n",
    "    \"latent_size\": 10, ## Hidden layer dimension\n",
    "    \"output_size\": 40, ## output dimention\n",
    "    \"window_size\" : 3, ## sequence Length\n",
    "    \"num_layers\": 2,     ## number of LSTM layer\n",
    "    \"learning_rate\" : 0.001, ## learning rate\n",
    "    \"max_iter\" : 100000, ## Iteration\n",
    "    'early_stop' : True,  ## early stop\n",
    "})"
   ]
  },
  {
   "cell_type": "markdown",
   "id": "1a345c36",
   "metadata": {},
   "source": [
    "## Train!"
   ]
  },
  {
   "cell_type": "code",
   "execution_count": 23,
   "id": "c7e7410c",
   "metadata": {
    "scrolled": true
   },
   "outputs": [
    {
     "name": "stderr",
     "output_type": "stream",
     "text": [
      "C:\\Users\\vaiv\\AppData\\Local\\Temp\\ipykernel_34744\\4120193331.py:17: SettingWithCopyWarning: \n",
      "A value is trying to be set on a copy of a slice from a DataFrame.\n",
      "Try using .loc[row_indexer,col_indexer] = value instead\n",
      "\n",
      "See the caveats in the documentation: https://pandas.pydata.org/pandas-docs/stable/user_guide/indexing.html#returning-a-view-versus-a-copy\n",
      "  df[sensor_columns] = (df[sensor_columns]-mean_df)/std_df\n",
      "C:\\Users\\vaiv\\AppData\\Local\\Temp\\ipykernel_34744\\4120193331.py:17: SettingWithCopyWarning: \n",
      "A value is trying to be set on a copy of a slice from a DataFrame.\n",
      "Try using .loc[row_indexer,col_indexer] = value instead\n",
      "\n",
      "See the caveats in the documentation: https://pandas.pydata.org/pandas-docs/stable/user_guide/indexing.html#returning-a-view-versus-a-copy\n",
      "  df[sensor_columns] = (df[sensor_columns]-mean_df)/std_df\n",
      "C:\\Users\\vaiv\\AppData\\Local\\Temp\\ipykernel_34744\\4120193331.py:17: SettingWithCopyWarning: \n",
      "A value is trying to be set on a copy of a slice from a DataFrame.\n",
      "Try using .loc[row_indexer,col_indexer] = value instead\n",
      "\n",
      "See the caveats in the documentation: https://pandas.pydata.org/pandas-docs/stable/user_guide/indexing.html#returning-a-view-versus-a-copy\n",
      "  df[sensor_columns] = (df[sensor_columns]-mean_df)/std_df\n",
      "C:\\Users\\vaiv\\AppData\\Local\\Temp\\ipykernel_34744\\4120193331.py:17: SettingWithCopyWarning: \n",
      "A value is trying to be set on a copy of a slice from a DataFrame.\n",
      "Try using .loc[row_indexer,col_indexer] = value instead\n",
      "\n",
      "See the caveats in the documentation: https://pandas.pydata.org/pandas-docs/stable/user_guide/indexing.html#returning-a-view-versus-a-copy\n",
      "  df[sensor_columns] = (df[sensor_columns]-mean_df)/std_df\n",
      "C:\\Users\\vaiv\\AppData\\Local\\Temp\\ipykernel_34744\\4120193331.py:17: SettingWithCopyWarning: \n",
      "A value is trying to be set on a copy of a slice from a DataFrame.\n",
      "Try using .loc[row_indexer,col_indexer] = value instead\n",
      "\n",
      "See the caveats in the documentation: https://pandas.pydata.org/pandas-docs/stable/user_guide/indexing.html#returning-a-view-versus-a-copy\n",
      "  df[sensor_columns] = (df[sensor_columns]-mean_df)/std_df\n",
      "C:\\Users\\vaiv\\AppData\\Local\\Temp\\ipykernel_34744\\4120193331.py:17: SettingWithCopyWarning: \n",
      "A value is trying to be set on a copy of a slice from a DataFrame.\n",
      "Try using .loc[row_indexer,col_indexer] = value instead\n",
      "\n",
      "See the caveats in the documentation: https://pandas.pydata.org/pandas-docs/stable/user_guide/indexing.html#returning-a-view-versus-a-copy\n",
      "  df[sensor_columns] = (df[sensor_columns]-mean_df)/std_df\n"
     ]
    }
   ],
   "source": [
    "## Convert datainto Dataset of PyTorch!\n",
    "normal_dataset1 = TagDataset(df=normal_df1, input_size=args.input_size, window_size=args.window_size, mean_df=mean_df, std_df=std_df)\n",
    "normal_dataset2 = TagDataset(df=normal_df2, input_size=args.input_size, window_size=args.window_size, mean_df=mean_df, std_df=std_df)\n",
    "normal_dataset3 = TagDataset(df=normal_df3, input_size=args.input_size, window_size=args.window_size, mean_df=mean_df, std_df=std_df)\n",
    "normal_dataset4 = TagDataset(df=normal_df4, input_size=args.input_size, window_size=args.window_size, mean_df=mean_df, std_df=std_df)\n",
    "abnormal_dataset1 = TagDataset(df=abnormal_df1, input_size=args.input_size, window_size=args.window_size, mean_df=mean_df, std_df=std_df)\n",
    "abnormal_dataset2 = TagDataset(df=abnormal_df2, input_size=args.input_size, window_size=args.window_size, mean_df=mean_df, std_df=std_df)"
   ]
  },
  {
   "cell_type": "code",
   "execution_count": 24,
   "id": "1bb46b3e",
   "metadata": {},
   "outputs": [],
   "source": [
    "## Dataset to Data Loader\n",
    "train_loader = torch.utils.data.DataLoader(dataset=normal_dataset1,\n",
    "                 batch_size=args.batch_size, shuffle=True)\n",
    "valid_loader = torch.utils.data.DataLoader(dataset=normal_dataset2,\n",
    "                batch_size=args.batch_size, shuffle=False)"
   ]
  },
  {
   "cell_type": "code",
   "execution_count": 25,
   "id": "7b624dfc",
   "metadata": {},
   "outputs": [
    {
     "data": {
      "text/plain": [
       "LSTMAutoEncoder(\n",
       "  (encoder): Encoder(\n",
       "    (lstm): LSTM(40, 10, num_layers=2, batch_first=True, dropout=0.1)\n",
       "  )\n",
       "  (reconstruct_decoder): Decoder(\n",
       "    (lstm): LSTM(40, 10, num_layers=2, batch_first=True, dropout=0.1)\n",
       "    (relu): ReLU()\n",
       "    (fc): Linear(in_features=10, out_features=40, bias=True)\n",
       "  )\n",
       ")"
      ]
     },
     "execution_count": 25,
     "metadata": {},
     "output_type": "execute_result"
    }
   ],
   "source": [
    "## Modelling\n",
    "model = LSTMAutoEncoder(input_dim=args.input_size, latent_dim=args.latent_size, window_size=args.window_size, num_layers=args.num_layers)\n",
    "model.to(args.device)"
   ]
  },
  {
   "cell_type": "code",
   "execution_count": 26,
   "id": "8364ed24",
   "metadata": {
    "scrolled": true
   },
   "outputs": [
    {
     "data": {
      "application/vnd.jupyter.widget-view+json": {
       "model_id": "2e0041a816064f32a6d34e8dca3408e7",
       "version_major": 2,
       "version_minor": 0
      },
      "text/plain": [
       "  0%|          | 0/47 [00:00<?, ?it/s]"
      ]
     },
     "metadata": {},
     "output_type": "display_data"
    },
    {
     "data": {
      "application/vnd.jupyter.widget-view+json": {
       "model_id": "e6807a7d7f464c35abc94fcbd1f5dedc",
       "version_major": 2,
       "version_minor": 0
      },
      "text/plain": [
       "training:   0%|          | 0/2173 [00:00<?, ?it/s]"
      ]
     },
     "metadata": {},
     "output_type": "display_data"
    },
    {
     "data": {
      "application/vnd.jupyter.widget-view+json": {
       "model_id": "cff40d9d52ee4f97b768ec94aaed83b6",
       "version_major": 2,
       "version_minor": 0
      },
      "text/plain": [
       "testing:   0%|          | 0/307 [00:00<?, ?it/s]"
      ]
     },
     "metadata": {},
     "output_type": "display_data"
    },
    {
     "data": {
      "application/vnd.jupyter.widget-view+json": {
       "model_id": "6756bed459ab42be927c1022ef703ce8",
       "version_major": 2,
       "version_minor": 0
      },
      "text/plain": [
       "training:   0%|          | 0/2173 [00:00<?, ?it/s]"
      ]
     },
     "metadata": {},
     "output_type": "display_data"
    },
    {
     "data": {
      "application/vnd.jupyter.widget-view+json": {
       "model_id": "6ea71b39e8b24d3eb0dc00b68174c741",
       "version_major": 2,
       "version_minor": 0
      },
      "text/plain": [
       "testing:   0%|          | 0/307 [00:00<?, ?it/s]"
      ]
     },
     "metadata": {},
     "output_type": "display_data"
    },
    {
     "data": {
      "application/vnd.jupyter.widget-view+json": {
       "model_id": "33f7389022f84b7192fdb3932893da49",
       "version_major": 2,
       "version_minor": 0
      },
      "text/plain": [
       "training:   0%|          | 0/2173 [00:00<?, ?it/s]"
      ]
     },
     "metadata": {},
     "output_type": "display_data"
    },
    {
     "data": {
      "application/vnd.jupyter.widget-view+json": {
       "model_id": "364b9548f9e2497aad7ecadc8823b1b6",
       "version_major": 2,
       "version_minor": 0
      },
      "text/plain": [
       "testing:   0%|          | 0/307 [00:00<?, ?it/s]"
      ]
     },
     "metadata": {},
     "output_type": "display_data"
    },
    {
     "data": {
      "application/vnd.jupyter.widget-view+json": {
       "model_id": "2e966fb3840a4ca29cc83e4fe71fa07a",
       "version_major": 2,
       "version_minor": 0
      },
      "text/plain": [
       "training:   0%|          | 0/2173 [00:00<?, ?it/s]"
      ]
     },
     "metadata": {},
     "output_type": "display_data"
    },
    {
     "data": {
      "application/vnd.jupyter.widget-view+json": {
       "model_id": "20d86ea0cfed4daf9f1b5a86a4fdba97",
       "version_major": 2,
       "version_minor": 0
      },
      "text/plain": [
       "testing:   0%|          | 0/307 [00:00<?, ?it/s]"
      ]
     },
     "metadata": {},
     "output_type": "display_data"
    },
    {
     "data": {
      "application/vnd.jupyter.widget-view+json": {
       "model_id": "bf490d06475b4a37932290da57280bd9",
       "version_major": 2,
       "version_minor": 0
      },
      "text/plain": [
       "training:   0%|          | 0/2173 [00:00<?, ?it/s]"
      ]
     },
     "metadata": {},
     "output_type": "display_data"
    },
    {
     "data": {
      "application/vnd.jupyter.widget-view+json": {
       "model_id": "b321b2b4675545029cfd89e3e7cab070",
       "version_major": 2,
       "version_minor": 0
      },
      "text/plain": [
       "testing:   0%|          | 0/307 [00:00<?, ?it/s]"
      ]
     },
     "metadata": {},
     "output_type": "display_data"
    },
    {
     "data": {
      "application/vnd.jupyter.widget-view+json": {
       "model_id": "ac25b05efc8e4d73909a5c2e4ffdadc5",
       "version_major": 2,
       "version_minor": 0
      },
      "text/plain": [
       "training:   0%|          | 0/2173 [00:00<?, ?it/s]"
      ]
     },
     "metadata": {},
     "output_type": "display_data"
    },
    {
     "data": {
      "application/vnd.jupyter.widget-view+json": {
       "model_id": "5af9cb986da14a9cb24c95140fd52284",
       "version_major": 2,
       "version_minor": 0
      },
      "text/plain": [
       "testing:   0%|          | 0/307 [00:00<?, ?it/s]"
      ]
     },
     "metadata": {},
     "output_type": "display_data"
    },
    {
     "data": {
      "application/vnd.jupyter.widget-view+json": {
       "model_id": "66cd1b15488d4d128fcdb8e96f211a25",
       "version_major": 2,
       "version_minor": 0
      },
      "text/plain": [
       "training:   0%|          | 0/2173 [00:00<?, ?it/s]"
      ]
     },
     "metadata": {},
     "output_type": "display_data"
    },
    {
     "data": {
      "application/vnd.jupyter.widget-view+json": {
       "model_id": "4e018f6081404b4f8f2cbd66783bb80d",
       "version_major": 2,
       "version_minor": 0
      },
      "text/plain": [
       "testing:   0%|          | 0/307 [00:00<?, ?it/s]"
      ]
     },
     "metadata": {},
     "output_type": "display_data"
    },
    {
     "data": {
      "application/vnd.jupyter.widget-view+json": {
       "model_id": "1917485c5cdf4e9e811772039261d9cd",
       "version_major": 2,
       "version_minor": 0
      },
      "text/plain": [
       "training:   0%|          | 0/2173 [00:00<?, ?it/s]"
      ]
     },
     "metadata": {},
     "output_type": "display_data"
    },
    {
     "data": {
      "application/vnd.jupyter.widget-view+json": {
       "model_id": "550c42a298584959b8ccc1f804e31b15",
       "version_major": 2,
       "version_minor": 0
      },
      "text/plain": [
       "testing:   0%|          | 0/307 [00:00<?, ?it/s]"
      ]
     },
     "metadata": {},
     "output_type": "display_data"
    },
    {
     "data": {
      "application/vnd.jupyter.widget-view+json": {
       "model_id": "b18045a673e14bfcabe3290c7474574e",
       "version_major": 2,
       "version_minor": 0
      },
      "text/plain": [
       "training:   0%|          | 0/2173 [00:00<?, ?it/s]"
      ]
     },
     "metadata": {},
     "output_type": "display_data"
    },
    {
     "data": {
      "application/vnd.jupyter.widget-view+json": {
       "model_id": "2125221906804a758c55a7f5e4827757",
       "version_major": 2,
       "version_minor": 0
      },
      "text/plain": [
       "testing:   0%|          | 0/307 [00:00<?, ?it/s]"
      ]
     },
     "metadata": {},
     "output_type": "display_data"
    },
    {
     "data": {
      "application/vnd.jupyter.widget-view+json": {
       "model_id": "df8da73b164740a6b0028a7e3b3b70c1",
       "version_major": 2,
       "version_minor": 0
      },
      "text/plain": [
       "training:   0%|          | 0/2173 [00:00<?, ?it/s]"
      ]
     },
     "metadata": {},
     "output_type": "display_data"
    },
    {
     "data": {
      "application/vnd.jupyter.widget-view+json": {
       "model_id": "efad89742fe34f5584b3dd25cae5d4af",
       "version_major": 2,
       "version_minor": 0
      },
      "text/plain": [
       "testing:   0%|          | 0/307 [00:00<?, ?it/s]"
      ]
     },
     "metadata": {},
     "output_type": "display_data"
    },
    {
     "data": {
      "application/vnd.jupyter.widget-view+json": {
       "model_id": "dad12ec78177426aaa4a0a83304b9fe9",
       "version_major": 2,
       "version_minor": 0
      },
      "text/plain": [
       "training:   0%|          | 0/2173 [00:00<?, ?it/s]"
      ]
     },
     "metadata": {},
     "output_type": "display_data"
    },
    {
     "data": {
      "application/vnd.jupyter.widget-view+json": {
       "model_id": "9a2599da1b994479a42fa5fd74002515",
       "version_major": 2,
       "version_minor": 0
      },
      "text/plain": [
       "testing:   0%|          | 0/307 [00:00<?, ?it/s]"
      ]
     },
     "metadata": {},
     "output_type": "display_data"
    },
    {
     "name": "stdout",
     "output_type": "stream",
     "text": [
      "early stop condition   best_loss[0.09806994590240892]  eval_loss[0.09904011385060289]\n"
     ]
    }
   ],
   "source": [
    "model = run(args, model, train_loader, valid_loader)"
   ]
  },
  {
   "cell_type": "markdown",
   "id": "db890c1f",
   "metadata": {},
   "source": [
    "## measure anomaly score"
   ]
  },
  {
   "cell_type": "code",
   "execution_count": 27,
   "id": "62ec89b5",
   "metadata": {},
   "outputs": [
    {
     "data": {
      "application/vnd.jupyter.widget-view+json": {
       "model_id": "4c88ae4ee61f49429db412a74ab02ed2",
       "version_major": 2,
       "version_minor": 0
      },
      "text/plain": [
       "testing:   0%|          | 0/307 [00:00<?, ?it/s]"
      ]
     },
     "metadata": {},
     "output_type": "display_data"
    },
    {
     "name": "stderr",
     "output_type": "stream",
     "text": [
      "C:\\Users\\vaiv\\Documents\\blog\\lstm_autoencoder_torch\\.lstm_ae_torch__\\lib\\site-packages\\torch\\nn\\_reduction.py:42: UserWarning: size_average and reduce args will be deprecated, please use reduction='none' instead.\n",
      "  warnings.warn(warning.format(ret))\n"
     ]
    }
   ],
   "source": [
    "## Reconstruction Error\n",
    "loss_list = get_loss_list(args, model, valid_loader)\n",
    "\n",
    "## Calculate mean of Reconstruction Error and Covarinace\n",
    "mean = np.mean(loss_list, axis=0)\n",
    "std = np.cov(loss_list.T)"
   ]
  },
  {
   "cell_type": "code",
   "execution_count": 28,
   "id": "e46d43e2",
   "metadata": {},
   "outputs": [],
   "source": [
    "## Anomaly Score\n",
    "class Anomaly_Calculator:\n",
    "    def __init__(self, mean:np.array, std:np.array):\n",
    "        assert mean.shape[0] == std.shape[0] and mean.shape[0] == std.shape[1], '평균과 분산의 차원이 똑같아야 합니다.'\n",
    "        self.mean = mean\n",
    "        self.std = std\n",
    "    \n",
    "    def __call__(self, recons_error:np.array):\n",
    "        x = (recons_error-self.mean)\n",
    "        return np.matmul(np.matmul(x, self.std), x.T)\n",
    "\n",
    "anomaly_calculator = Anomaly_Calculator(mean, std)"
   ]
  },
  {
   "cell_type": "code",
   "execution_count": 29,
   "id": "23c0fddf",
   "metadata": {},
   "outputs": [
    {
     "data": {
      "application/vnd.jupyter.widget-view+json": {
       "model_id": "ff461e141b7e4a018c11f4f5babac2fe",
       "version_major": 2,
       "version_minor": 0
      },
      "text/plain": [
       "  0%|          | 0/19620 [00:00<?, ?it/s]"
      ]
     },
     "metadata": {},
     "output_type": "display_data"
    },
    {
     "name": "stdout",
     "output_type": "stream",
     "text": [
      "평균[0.08248594180853762], 중간[0.04421350959668712], 최소[0.005779459524162748], 최대[4.278522233261983]\n"
     ]
    }
   ],
   "source": [
    "## Threshold 찾기\n",
    "anomaly_scores = []\n",
    "for temp_loss in tqdm(loss_list):\n",
    "    temp_score = anomaly_calculator(temp_loss)\n",
    "    anomaly_scores.append(temp_score)\n",
    "\n",
    "## 정상구간에서 비정상 점수 분포\n",
    "print(\"평균[{}], 중간[{}], 최소[{}], 최대[{}]\".format(np.mean(anomaly_scores), np.median(anomaly_scores), np.min(anomaly_scores), np.max(anomaly_scores)))"
   ]
  },
  {
   "cell_type": "markdown",
   "id": "53f3d12a",
   "metadata": {},
   "source": [
    "## Visualize all data"
   ]
  },
  {
   "cell_type": "code",
   "execution_count": 30,
   "id": "56c16044",
   "metadata": {},
   "outputs": [
    {
     "data": {
      "application/vnd.jupyter.widget-view+json": {
       "model_id": "559906a3f37e4395a768e050c2fd811b",
       "version_major": 2,
       "version_minor": 0
      },
      "text/plain": [
       "testing:   0%|          | 0/3309 [00:00<?, ?it/s]"
      ]
     },
     "metadata": {},
     "output_type": "display_data"
    },
    {
     "name": "stderr",
     "output_type": "stream",
     "text": [
      "C:\\Users\\vaiv\\Documents\\blog\\lstm_autoencoder_torch\\.lstm_ae_torch__\\lib\\site-packages\\torch\\nn\\_reduction.py:42: UserWarning: size_average and reduce args will be deprecated, please use reduction='none' instead.\n",
      "  warnings.warn(warning.format(ret))\n"
     ]
    },
    {
     "data": {
      "application/vnd.jupyter.widget-view+json": {
       "model_id": "6c50945fa38145c0b2214f4a332b305a",
       "version_major": 2,
       "version_minor": 0
      },
      "text/plain": [
       "  0%|          | 0/211715 [00:00<?, ?it/s]"
      ]
     },
     "metadata": {},
     "output_type": "display_data"
    }
   ],
   "source": [
    "## 전체 데이터 불러오기\n",
    "total_dataset = TagDataset(df=df, input_size=args.input_size, window_size=args.window_size, mean_df=mean_df, std_df=std_df)\n",
    "total_dataloader = torch.utils.data.DataLoader(dataset=total_dataset,batch_size=args.batch_size,shuffle=False)\n",
    "\n",
    "## Reconstruction Loss를 계산하기\n",
    "total_loss = get_loss_list(args, model, total_dataloader)\n",
    "\n",
    "## 이상치 점수 계산하기\n",
    "anomaly_scores = []\n",
    "for temp_loss in tqdm(total_loss):\n",
    "    temp_score = anomaly_calculator(temp_loss)\n",
    "    anomaly_scores.append(temp_score)\n",
    "\n",
    "visualization_df = total_dataset.df\n",
    "visualization_df['score'] = anomaly_scores\n",
    "visualization_df['recons_error'] = total_loss.sum(axis=1)"
   ]
  },
  {
   "cell_type": "code",
   "execution_count": 31,
   "id": "fba7c010",
   "metadata": {},
   "outputs": [
    {
     "data": {
      "image/png": "[encoded data removed]",
      "text/plain": [
       "<Figure size 1600x600 with 1 Axes>"
      ]
     },
     "metadata": {},
     "output_type": "display_data"
    }
   ],
   "source": [
    "## 시각화 하기\n",
    "fig = plt.figure(figsize=(16, 6))\n",
    "ax=fig.add_subplot(111)\n",
    "\n",
    "## 불량 구간 탐색 데이터\n",
    "labels = visualization_df['machine_status'].values.tolist()\n",
    "dates = visualization_df.index\n",
    "\n",
    "\n",
    "visualization_df['score'].plot(ax=ax)\n",
    "ax.legend(['abnormal score'], loc='upper right')\n",
    "\n",
    "## 고장구간 표시\n",
    "temp_start = dates[0]\n",
    "temp_date = dates[0]\n",
    "temp_label = labels[0]\n",
    "\n",
    "for xc, value in zip(dates, labels):\n",
    "    if temp_label != value:\n",
    "        if temp_label == \"BROKEN\":\n",
    "            ax.axvspan(temp_start, temp_date, alpha=0.2, color='blue')\n",
    "        if temp_label == \"RECOVERING\":\n",
    "            ax.axvspan(temp_start, temp_date, alpha=0.2, color='orange')\n",
    "        temp_start=xc\n",
    "        temp_label=value\n",
    "    temp_date = xc\n",
    "if temp_label == \"BROKEN\":\n",
    "    ax.axvspan(temp_start, xc, alpha=0.2, color='blue')\n",
    "if temp_label == \"RECOVERING\":\n",
    "    ax.axvspan(temp_start, xc, alpha=0.2, color='orange')"
   ]
  },
  {
   "cell_type": "code",
   "execution_count": 32,
   "id": "d3f3f80e",
   "metadata": {},
   "outputs": [
    {
     "data": {
      "image/png": "[encoded data removed]",
      "text/plain": [
       "<Figure size 1600x600 with 1 Axes>"
      ]
     },
     "metadata": {},
     "output_type": "display_data"
    }
   ],
   "source": [
    "## 시각화 하기\n",
    "fig = plt.figure(figsize=(16, 6))\n",
    "ax=fig.add_subplot(111)\n",
    "\n",
    "## 불량 구간 탐색 데이터\n",
    "labels = visualization_df['machine_status'].values.tolist()\n",
    "dates = visualization_df.index\n",
    "\n",
    "\n",
    "visualization_df['recons_error'].plot(ax=ax)\n",
    "ax.legend(['reconstruction error'], loc='upper right')\n",
    "\n",
    "## 고장구간 표시\n",
    "temp_start = dates[0]\n",
    "temp_date = dates[0]\n",
    "temp_label = labels[0]\n",
    "\n",
    "for xc, value in zip(dates, labels):\n",
    "    if temp_label != value:\n",
    "        if temp_label == \"BROKEN\":\n",
    "            ax.axvspan(temp_start, temp_date, alpha=0.2, color='blue')\n",
    "        if temp_label == \"RECOVERING\":\n",
    "            ax.axvspan(temp_start, temp_date, alpha=0.2, color='orange')\n",
    "        temp_start=xc\n",
    "        temp_label=value\n",
    "    temp_date = xc\n",
    "if temp_label == \"BROKEN\":\n",
    "    ax.axvspan(temp_start, xc, alpha=0.2, color='blue')\n",
    "if temp_label == \"RECOVERING\":\n",
    "    ax.axvspan(temp_start, xc, alpha=0.2, color='orange')"
   ]
  },
  {
   "cell_type": "code",
   "execution_count": null,
   "id": "14fa4109",
   "metadata": {},
   "outputs": [],
   "source": []
  }
 ],
 "metadata": {
  "kernelspec": {
   "display_name": ".lstm_ae_torch__",
   "language": "python",
   "name": ".lstm_ae_torch__"
  },
  "language_info": {
   "codemirror_mode": {
    "name": "ipython",
    "version": 3
   },
   "file_extension": ".py",
   "mimetype": "text/x-python",
   "name": "python",
   "nbconvert_exporter": "python",
   "pygments_lexer": "ipython3",
   "version": "3.9.12"
  }
 },
 "nbformat": 4,
 "nbformat_minor": 5
}
